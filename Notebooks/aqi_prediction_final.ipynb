{
 "cells": [
  {
   "cell_type": "markdown",
   "id": "82a75489-141d-416d-88db-68e2662477af",
   "metadata": {},
   "source": [
    "# **Air Quality Prediction (US Regions)**"
   ]
  },
  {
   "cell_type": "markdown",
   "id": "24f25244-be45-49ba-b058-55b06a7521ab",
   "metadata": {},
   "source": [
    "## **1. Introduction**\n",
    "\n",
    "**Goal:**  \n",
    "The goal of this project is to build a regression model to predict the daily Air Quality Index (AQI) across different U.S. regions. AQI is a key indicator of air pollution, reflecting the level of harmful pollutants in the atmosphere such as particulate matter, ozone, and carbon monoxide. High AQI values can signal serious health risks, especially for vulnerable populations like children, the elderly, and those with respiratory conditions.\n",
    "\n",
    "Being able to predict AQI based on available regional and environmental factors helps inform public health decisions, environmental policy, and community alerts. In this project, we focus on using only the data provided—such as location, pollutant type, and population characteristics—to explore how accurately we can estimate AQI without relying on external data sources.\n",
    "\n",
    "**Research Question:**  \n",
    "*How well can we predict daily Air Quality Index (AQI) across US regions using only the location, pollutant, and population data provided in this dataset?*\n",
    "\n",
    "**Dataset Details:**  \n",
    "The dataset used in this project contains daily air quality measurements from various regions across the United States. It includes key information such as the Air Quality Index (AQI), the most impactful pollutant on a given day, and details about the location where the data was recorded.\n",
    "\n",
    "**Main Columns Include:**\n",
    "- `CBSA Code`: A code representing a core-based statistical area defined by the U.S. Office of Management and Budget.\n",
    "- `Date`: The specific day the air quality was recorded.\n",
    "- `AQI`: The average Air Quality Index value for that day, ranging from 0 (healthy) to 500 (hazardous).\n",
    "- `Category`: A qualitative label for the AQI value, such as \"Good\", \"Moderate\", or \"Unhealthy\".\n",
    "- `Defining Parameter`: The primary pollutant contributing most to the AQI that day (e.g., PM2.5, Ozone, CO).\n",
    "- `Number of Sites Reporting`: The number of monitoring stations contributing data for that entry.\n",
    "- `city_ascii`, `state_id`, `state_name`: Identifiers for the city and state where the data was collected.\n",
    "- `lat`, `lng`: Latitude and longitude of the data collection point.\n",
    "- `population`: The population of the corresponding region.\n",
    "- `density`: The population density (people per square kilometer).\n",
    "- `timezone`: The time zone of the region.\n",
    "\n",
    "**Data Sources:**\n",
    "- **Locational Data**: [SimpleMaps US Cities Database](https://simplemaps.com/data/us-cities)\n",
    "- **AQI Data**: [EPA Air Quality System (AQS) Data](https://aqs.epa.gov/aqsweb/airdata/download_files.html)\n",
    "- For technical background on AQI: [EPA AQI Technical Document](https://www.airnow.gov/sites/default/files/2020-05/aqi-technical-assistance-document-sept2018.pdf)\n",
    "\n",
    "The dataset was provided as a CSV file for this project. Upon initial inspection, it contains approximately _5617325_ rows and _15_ columns, covering a broad range of U.S. cities and dates."
   ]
  },
  {
   "cell_type": "markdown",
   "id": "0eea6b97-8f37-4994-9788-73f5dddf31eb",
   "metadata": {},
   "source": [
    "## **2. What is Regression and How Does It Work?**\n",
    "\n",
    "Regression is a type of supervised machine learning technique used to predict a continuous output variable (also called the target or response) based on one or more input features (also called independent variables). In this project, our goal is to predict the **Air Quality Index (AQI)**, which is a continuous numerical value, based on features like location, population, and pollutant data.\n",
    "\n",
    "### **Linear Regression**\n",
    "\n",
    "Linear regression is one of the simplest and most widely used forms of regression. It assumes a linear relationship between the input variables (features) and the output variable (target). The goal of linear regression is to find the best-fitting straight line (or hyperplane in higher dimensions) through the data points.\n",
    "\n",
    "Mathematically, linear regression can be expressed as:\n",
    "\n",
    "$$\n",
    "y = \\beta_0 + \\beta_1 x_1 + \\beta_2 x_2 + \\dots + \\beta_n x_n + \\epsilon\n",
    "$$\n",
    "\n",
    "Where:\n",
    "- $ y $ is the predicted target (in our case, **AQI**),\n",
    "- $ \\beta_0 $ is the intercept,\n",
    "- $ \\beta_1, \\beta_2, ..., \\beta_n $ are the coefficients (weights) for each feature $ x_1, x_2, ..., x_n $,\n",
    "- $ \\epsilon $ is the error term (the difference between the predicted and actual values).\n",
    "\n",
    "### **Ordinary Least Squares (OLS)**\n",
    "\n",
    "The most common method for fitting a linear regression model is **Ordinary Least Squares**. OLS works by minimizing the **sum of squared residuals**—the vertical distances between the actual data points and the predicted line.\n",
    "\n",
    "In simpler terms, the model adjusts the coefficients so that the total error between predicted and actual AQI values is as small as possible:\n",
    "\n",
    "$$\n",
    "\\text{Minimize } \\sum_{i=1}^{n} (y_i - \\hat{y}_i)^2\n",
    "$$\n",
    "\n",
    "Where:\n",
    "- $y_i$ is the actual AQI value,\n",
    "- $\\hat{y}_i$ is the predicted AQI value from the model.\n",
    "\n",
    "### **Why Linear Regression for This Project?**\n",
    "\n",
    "I am starting with Linear Regression because:\n",
    "- It's interpretable and simple to implement.\n",
    "- It's effective for understanding which features (e.g., population, location, pollutant type) have the strongest linear relationship with AQI.\n",
    "- It provides a baseline model that I can later improve with more complex algorithms like Random Forest or XGBoost.\n",
    "\n",
    "Later in the project, I may explore alternative models to see if they perform better, but Linear Regression provides a solid foundation to start with."
   ]
  },
  {
   "cell_type": "code",
   "execution_count": 93,
   "id": "04b91984-b65f-42be-b551-0e414c6a3001",
   "metadata": {},
   "outputs": [],
   "source": [
    "import pandas as pd\n",
    "import numpy as np\n",
    "import seaborn as sns\n",
    "from math import sqrt\n",
    "import matplotlib.pyplot as plt\n",
    "from sklearn.linear_model import LinearRegression\n",
    "from sklearn.metrics import mean_squared_error\n",
    "from sklearn.model_selection import train_test_split\n",
    "from sklearn.preprocessing import OneHotEncoder\n",
    "from sklearn.compose import ColumnTransformer\n",
    "from sklearn.pipeline import Pipeline\n",
    "from sklearn.linear_model import Ridge\n",
    "from sklearn.pipeline import make_pipeline\n",
    "from sklearn.preprocessing import StandardScaler"
   ]
  },
  {
   "cell_type": "code",
   "execution_count": 94,
   "id": "a0ed6703-7032-4c3a-966a-a6b1c86f1ead",
   "metadata": {},
   "outputs": [
    {
     "data": {
      "text/html": [
       "<div>\n",
       "<style scoped>\n",
       "    .dataframe tbody tr th:only-of-type {\n",
       "        vertical-align: middle;\n",
       "    }\n",
       "\n",
       "    .dataframe tbody tr th {\n",
       "        vertical-align: top;\n",
       "    }\n",
       "\n",
       "    .dataframe thead th {\n",
       "        text-align: right;\n",
       "    }\n",
       "</style>\n",
       "<table border=\"1\" class=\"dataframe\">\n",
       "  <thead>\n",
       "    <tr style=\"text-align: right;\">\n",
       "      <th></th>\n",
       "      <th>Unnamed: 0</th>\n",
       "      <th>CBSA Code</th>\n",
       "      <th>Date</th>\n",
       "      <th>AQI</th>\n",
       "      <th>Category</th>\n",
       "      <th>Defining Parameter</th>\n",
       "      <th>Number of Sites Reporting</th>\n",
       "      <th>city_ascii</th>\n",
       "      <th>state_id</th>\n",
       "      <th>state_name</th>\n",
       "      <th>lat</th>\n",
       "      <th>lng</th>\n",
       "      <th>population</th>\n",
       "      <th>density</th>\n",
       "      <th>timezone</th>\n",
       "    </tr>\n",
       "  </thead>\n",
       "  <tbody>\n",
       "    <tr>\n",
       "      <th>0</th>\n",
       "      <td>0</td>\n",
       "      <td>10140</td>\n",
       "      <td>2022-01-01</td>\n",
       "      <td>21</td>\n",
       "      <td>Good</td>\n",
       "      <td>PM2.5</td>\n",
       "      <td>2</td>\n",
       "      <td>Aberdeen</td>\n",
       "      <td>WA</td>\n",
       "      <td>Washington</td>\n",
       "      <td>46.9757</td>\n",
       "      <td>-123.8094</td>\n",
       "      <td>16571.0</td>\n",
       "      <td>588.0</td>\n",
       "      <td>America/Los_Angeles</td>\n",
       "    </tr>\n",
       "    <tr>\n",
       "      <th>1</th>\n",
       "      <td>1</td>\n",
       "      <td>10140</td>\n",
       "      <td>2022-01-02</td>\n",
       "      <td>12</td>\n",
       "      <td>Good</td>\n",
       "      <td>PM2.5</td>\n",
       "      <td>2</td>\n",
       "      <td>Aberdeen</td>\n",
       "      <td>WA</td>\n",
       "      <td>Washington</td>\n",
       "      <td>46.9757</td>\n",
       "      <td>-123.8094</td>\n",
       "      <td>16571.0</td>\n",
       "      <td>588.0</td>\n",
       "      <td>America/Los_Angeles</td>\n",
       "    </tr>\n",
       "    <tr>\n",
       "      <th>2</th>\n",
       "      <td>2</td>\n",
       "      <td>10140</td>\n",
       "      <td>2022-01-03</td>\n",
       "      <td>18</td>\n",
       "      <td>Good</td>\n",
       "      <td>PM2.5</td>\n",
       "      <td>2</td>\n",
       "      <td>Aberdeen</td>\n",
       "      <td>WA</td>\n",
       "      <td>Washington</td>\n",
       "      <td>46.9757</td>\n",
       "      <td>-123.8094</td>\n",
       "      <td>16571.0</td>\n",
       "      <td>588.0</td>\n",
       "      <td>America/Los_Angeles</td>\n",
       "    </tr>\n",
       "    <tr>\n",
       "      <th>3</th>\n",
       "      <td>3</td>\n",
       "      <td>10140</td>\n",
       "      <td>2022-01-04</td>\n",
       "      <td>19</td>\n",
       "      <td>Good</td>\n",
       "      <td>PM2.5</td>\n",
       "      <td>2</td>\n",
       "      <td>Aberdeen</td>\n",
       "      <td>WA</td>\n",
       "      <td>Washington</td>\n",
       "      <td>46.9757</td>\n",
       "      <td>-123.8094</td>\n",
       "      <td>16571.0</td>\n",
       "      <td>588.0</td>\n",
       "      <td>America/Los_Angeles</td>\n",
       "    </tr>\n",
       "    <tr>\n",
       "      <th>4</th>\n",
       "      <td>4</td>\n",
       "      <td>10140</td>\n",
       "      <td>2022-01-05</td>\n",
       "      <td>17</td>\n",
       "      <td>Good</td>\n",
       "      <td>PM2.5</td>\n",
       "      <td>2</td>\n",
       "      <td>Aberdeen</td>\n",
       "      <td>WA</td>\n",
       "      <td>Washington</td>\n",
       "      <td>46.9757</td>\n",
       "      <td>-123.8094</td>\n",
       "      <td>16571.0</td>\n",
       "      <td>588.0</td>\n",
       "      <td>America/Los_Angeles</td>\n",
       "    </tr>\n",
       "  </tbody>\n",
       "</table>\n",
       "</div>"
      ],
      "text/plain": [
       "   Unnamed: 0  CBSA Code        Date  AQI Category Defining Parameter  \\\n",
       "0           0      10140  2022-01-01   21     Good              PM2.5   \n",
       "1           1      10140  2022-01-02   12     Good              PM2.5   \n",
       "2           2      10140  2022-01-03   18     Good              PM2.5   \n",
       "3           3      10140  2022-01-04   19     Good              PM2.5   \n",
       "4           4      10140  2022-01-05   17     Good              PM2.5   \n",
       "\n",
       "   Number of Sites Reporting city_ascii state_id  state_name      lat  \\\n",
       "0                          2   Aberdeen       WA  Washington  46.9757   \n",
       "1                          2   Aberdeen       WA  Washington  46.9757   \n",
       "2                          2   Aberdeen       WA  Washington  46.9757   \n",
       "3                          2   Aberdeen       WA  Washington  46.9757   \n",
       "4                          2   Aberdeen       WA  Washington  46.9757   \n",
       "\n",
       "        lng  population  density             timezone  \n",
       "0 -123.8094     16571.0    588.0  America/Los_Angeles  \n",
       "1 -123.8094     16571.0    588.0  America/Los_Angeles  \n",
       "2 -123.8094     16571.0    588.0  America/Los_Angeles  \n",
       "3 -123.8094     16571.0    588.0  America/Los_Angeles  \n",
       "4 -123.8094     16571.0    588.0  America/Los_Angeles  "
      ]
     },
     "execution_count": 94,
     "metadata": {},
     "output_type": "execute_result"
    }
   ],
   "source": [
    "# Load the dataset\n",
    "df = pd.read_csv('US_AQI.csv')\n",
    "\n",
    "df.head()"
   ]
  },
  {
   "cell_type": "markdown",
   "id": "cbf7c593-aebe-4a4e-bd63-a120722a743c",
   "metadata": {},
   "source": [
    "## **Data Understanding**\n",
    "\n",
    "### **Exploratory Data Analysis (EDA)**\n",
    "\n",
    "Before building our regression model, it's important to explore and understand the structure, quality, and contents of the dataset. We'll start by checking the dataset's structure, identifying any missing values, and drawing some early observations that will help guide preprocessing and modeling decisions."
   ]
  },
  {
   "cell_type": "markdown",
   "id": "40a4ecb8-3af8-4dbe-ad7b-863ddd05acef",
   "metadata": {},
   "source": [
    "#### **Dataset Structure**\n",
    "\n",
    "Let’s examine the size of the dataset, the data types of each column, and whether the data types align with their intended meaning."
   ]
  },
  {
   "cell_type": "code",
   "execution_count": 95,
   "id": "35a44497-562e-485c-9c4d-8eb8ba5f4eef",
   "metadata": {},
   "outputs": [
    {
     "name": "stdout",
     "output_type": "stream",
     "text": [
      "<class 'pandas.core.frame.DataFrame'>\n",
      "RangeIndex: 5617325 entries, 0 to 5617324\n",
      "Data columns (total 15 columns):\n",
      " #   Column                     Dtype  \n",
      "---  ------                     -----  \n",
      " 0   Unnamed: 0                 int64  \n",
      " 1   CBSA Code                  int64  \n",
      " 2   Date                       object \n",
      " 3   AQI                        int64  \n",
      " 4   Category                   object \n",
      " 5   Defining Parameter         object \n",
      " 6   Number of Sites Reporting  int64  \n",
      " 7   city_ascii                 object \n",
      " 8   state_id                   object \n",
      " 9   state_name                 object \n",
      " 10  lat                        float64\n",
      " 11  lng                        float64\n",
      " 12  population                 float64\n",
      " 13  density                    float64\n",
      " 14  timezone                   object \n",
      "dtypes: float64(4), int64(4), object(7)\n",
      "memory usage: 642.9+ MB\n"
     ]
    }
   ],
   "source": [
    "# Overview of dataset structure\n",
    "df.info()"
   ]
  },
  {
   "cell_type": "markdown",
   "id": "9565c721-3b63-467c-a10f-a5205ec24576",
   "metadata": {},
   "source": [
    "- The dataset contains **5,617,325 rows** and **15 columns**, making it a large and rich dataset with wide coverage across different locations and dates.\n",
    "- It includes a mix of:\n",
    "  - **Numerical columns**: `CBSA Code`, `AQI`, `Number of Sites Reporting`, `lat`, `lng`, `population`, `density`, and `Unnamed: 0`.\n",
    "  - **Categorical/text columns**: `Date`, `Category`, `Defining Parameter`, `city_ascii`, `state_id`, `state_name`, and `timezone`.\n",
    "\n",
    "The `Date` column is currently of type `object`, so we may want to convert it to datetime format later for time-based feature engineering."
   ]
  },
  {
   "cell_type": "markdown",
   "id": "a5421d8a-1078-45cc-84ee-779d2111deea",
   "metadata": {},
   "source": [
    "#### **Missing Values**\n",
    "\n",
    "We’ll check for missing or null values in the dataset. This will help us decide whether any cleaning or imputation is needed before modeling."
   ]
  },
  {
   "cell_type": "code",
   "execution_count": 96,
   "id": "94e35ade-d3e4-4abb-8fe1-4198b94f3cb7",
   "metadata": {},
   "outputs": [
    {
     "data": {
      "text/plain": [
       "Unnamed: 0                   0\n",
       "CBSA Code                    0\n",
       "Date                         0\n",
       "AQI                          0\n",
       "Category                     0\n",
       "Defining Parameter           0\n",
       "Number of Sites Reporting    0\n",
       "city_ascii                   0\n",
       "state_id                     0\n",
       "state_name                   0\n",
       "lat                          0\n",
       "lng                          0\n",
       "population                   0\n",
       "density                      0\n",
       "timezone                     0\n",
       "dtype: int64"
      ]
     },
     "execution_count": 96,
     "metadata": {},
     "output_type": "execute_result"
    }
   ],
   "source": [
    "# Count of missing values in each column\n",
    "df.isnull().sum()"
   ]
  },
  {
   "cell_type": "markdown",
   "id": "ecc570c3-517e-4b1c-af54-8ded361babfa",
   "metadata": {},
   "source": [
    "- There are **no missing values** in the dataset. Every column has a complete set of data, which simplifies our preprocessing and modeling pipeline."
   ]
  },
  {
   "cell_type": "markdown",
   "id": "d619161c-b5f7-4a0c-9475-cb884e25ffbb",
   "metadata": {},
   "source": [
    "#### **Initial Observations**\n",
    "\n",
    "From my early checks, I’ve identified a few important notes:\n",
    "- We have several potential predictors for AQI, including:\n",
    "  - **Geographic features**: `lat`, `lng`, `state_name`, `city_ascii`\n",
    "  - **Population features**: `population`, `density`\n",
    "  - **Pollution-related info**: `Defining Parameter`, `Number of Sites Reporting`\n",
    "- The `Date` column should be converted to datetime to allow for extraction of month, season, or other time-based trends.\n",
    "- The `Unnamed: 0` column appears to be just an index from the original CSV file and can likely be dropped.\n",
    "\n",
    "These observations will help to prepare the data effectively before fitting the first regression model."
   ]
  },
  {
   "cell_type": "code",
   "execution_count": 97,
   "id": "73db09b6-e430-4b5e-8dd2-803126a0637c",
   "metadata": {},
   "outputs": [
    {
     "data": {
      "text/html": [
       "<div>\n",
       "<style scoped>\n",
       "    .dataframe tbody tr th:only-of-type {\n",
       "        vertical-align: middle;\n",
       "    }\n",
       "\n",
       "    .dataframe tbody tr th {\n",
       "        vertical-align: top;\n",
       "    }\n",
       "\n",
       "    .dataframe thead th {\n",
       "        text-align: right;\n",
       "    }\n",
       "</style>\n",
       "<table border=\"1\" class=\"dataframe\">\n",
       "  <thead>\n",
       "    <tr style=\"text-align: right;\">\n",
       "      <th></th>\n",
       "      <th>Unnamed: 0</th>\n",
       "      <th>CBSA Code</th>\n",
       "      <th>Date</th>\n",
       "      <th>AQI</th>\n",
       "      <th>Category</th>\n",
       "      <th>Defining Parameter</th>\n",
       "      <th>Number of Sites Reporting</th>\n",
       "      <th>city_ascii</th>\n",
       "      <th>state_id</th>\n",
       "      <th>state_name</th>\n",
       "      <th>lat</th>\n",
       "      <th>lng</th>\n",
       "      <th>population</th>\n",
       "      <th>density</th>\n",
       "      <th>timezone</th>\n",
       "    </tr>\n",
       "  </thead>\n",
       "  <tbody>\n",
       "    <tr>\n",
       "      <th>0</th>\n",
       "      <td>0</td>\n",
       "      <td>10140</td>\n",
       "      <td>2022-01-01</td>\n",
       "      <td>21</td>\n",
       "      <td>Good</td>\n",
       "      <td>PM2.5</td>\n",
       "      <td>2</td>\n",
       "      <td>Aberdeen</td>\n",
       "      <td>WA</td>\n",
       "      <td>Washington</td>\n",
       "      <td>46.9757</td>\n",
       "      <td>-123.8094</td>\n",
       "      <td>16571.0</td>\n",
       "      <td>588.0</td>\n",
       "      <td>America/Los_Angeles</td>\n",
       "    </tr>\n",
       "    <tr>\n",
       "      <th>1</th>\n",
       "      <td>1</td>\n",
       "      <td>10140</td>\n",
       "      <td>2022-01-02</td>\n",
       "      <td>12</td>\n",
       "      <td>Good</td>\n",
       "      <td>PM2.5</td>\n",
       "      <td>2</td>\n",
       "      <td>Aberdeen</td>\n",
       "      <td>WA</td>\n",
       "      <td>Washington</td>\n",
       "      <td>46.9757</td>\n",
       "      <td>-123.8094</td>\n",
       "      <td>16571.0</td>\n",
       "      <td>588.0</td>\n",
       "      <td>America/Los_Angeles</td>\n",
       "    </tr>\n",
       "    <tr>\n",
       "      <th>2</th>\n",
       "      <td>2</td>\n",
       "      <td>10140</td>\n",
       "      <td>2022-01-03</td>\n",
       "      <td>18</td>\n",
       "      <td>Good</td>\n",
       "      <td>PM2.5</td>\n",
       "      <td>2</td>\n",
       "      <td>Aberdeen</td>\n",
       "      <td>WA</td>\n",
       "      <td>Washington</td>\n",
       "      <td>46.9757</td>\n",
       "      <td>-123.8094</td>\n",
       "      <td>16571.0</td>\n",
       "      <td>588.0</td>\n",
       "      <td>America/Los_Angeles</td>\n",
       "    </tr>\n",
       "    <tr>\n",
       "      <th>3</th>\n",
       "      <td>3</td>\n",
       "      <td>10140</td>\n",
       "      <td>2022-01-04</td>\n",
       "      <td>19</td>\n",
       "      <td>Good</td>\n",
       "      <td>PM2.5</td>\n",
       "      <td>2</td>\n",
       "      <td>Aberdeen</td>\n",
       "      <td>WA</td>\n",
       "      <td>Washington</td>\n",
       "      <td>46.9757</td>\n",
       "      <td>-123.8094</td>\n",
       "      <td>16571.0</td>\n",
       "      <td>588.0</td>\n",
       "      <td>America/Los_Angeles</td>\n",
       "    </tr>\n",
       "    <tr>\n",
       "      <th>4</th>\n",
       "      <td>4</td>\n",
       "      <td>10140</td>\n",
       "      <td>2022-01-05</td>\n",
       "      <td>17</td>\n",
       "      <td>Good</td>\n",
       "      <td>PM2.5</td>\n",
       "      <td>2</td>\n",
       "      <td>Aberdeen</td>\n",
       "      <td>WA</td>\n",
       "      <td>Washington</td>\n",
       "      <td>46.9757</td>\n",
       "      <td>-123.8094</td>\n",
       "      <td>16571.0</td>\n",
       "      <td>588.0</td>\n",
       "      <td>America/Los_Angeles</td>\n",
       "    </tr>\n",
       "  </tbody>\n",
       "</table>\n",
       "</div>"
      ],
      "text/plain": [
       "   Unnamed: 0  CBSA Code        Date  AQI Category Defining Parameter  \\\n",
       "0           0      10140  2022-01-01   21     Good              PM2.5   \n",
       "1           1      10140  2022-01-02   12     Good              PM2.5   \n",
       "2           2      10140  2022-01-03   18     Good              PM2.5   \n",
       "3           3      10140  2022-01-04   19     Good              PM2.5   \n",
       "4           4      10140  2022-01-05   17     Good              PM2.5   \n",
       "\n",
       "   Number of Sites Reporting city_ascii state_id  state_name      lat  \\\n",
       "0                          2   Aberdeen       WA  Washington  46.9757   \n",
       "1                          2   Aberdeen       WA  Washington  46.9757   \n",
       "2                          2   Aberdeen       WA  Washington  46.9757   \n",
       "3                          2   Aberdeen       WA  Washington  46.9757   \n",
       "4                          2   Aberdeen       WA  Washington  46.9757   \n",
       "\n",
       "        lng  population  density             timezone  \n",
       "0 -123.8094     16571.0    588.0  America/Los_Angeles  \n",
       "1 -123.8094     16571.0    588.0  America/Los_Angeles  \n",
       "2 -123.8094     16571.0    588.0  America/Los_Angeles  \n",
       "3 -123.8094     16571.0    588.0  America/Los_Angeles  \n",
       "4 -123.8094     16571.0    588.0  America/Los_Angeles  "
      ]
     },
     "execution_count": 97,
     "metadata": {},
     "output_type": "execute_result"
    }
   ],
   "source": [
    "df.head()"
   ]
  },
  {
   "cell_type": "markdown",
   "id": "c7a38bce-0ab5-40ad-887d-1427b40f0ab1",
   "metadata": {},
   "source": [
    "#### **Unique Categories**"
   ]
  },
  {
   "cell_type": "code",
   "execution_count": 98,
   "id": "f65f21fe-564f-472a-a7b0-835cf0090a1d",
   "metadata": {},
   "outputs": [
    {
     "data": {
      "text/plain": [
       "array(['Good', 'Moderate', 'Unhealthy for Sensitive Groups', 'Unhealthy',\n",
       "       'Hazardous', 'Very Unhealthy'], dtype=object)"
      ]
     },
     "execution_count": 98,
     "metadata": {},
     "output_type": "execute_result"
    }
   ],
   "source": [
    "categories = df['Category'].unique()\n",
    "categories"
   ]
  },
  {
   "cell_type": "markdown",
   "id": "e2f02071-a38d-4d67-a532-deeba3f7cec4",
   "metadata": {},
   "source": [
    "#### **Distribution of AQI**\n",
    "A histogram of the `AQI` column will help us understand the overall distribution of air quality values across all locations and dates."
   ]
  },
  {
   "cell_type": "code",
   "execution_count": 99,
   "id": "b061233b-5db9-4fc2-a526-54ff179c3229",
   "metadata": {},
   "outputs": [
    {
     "data": {
      "image/png": "[encoded data removed]",
      "text/plain": [
       "<Figure size 1000x500 with 1 Axes>"
      ]
     },
     "metadata": {},
     "output_type": "display_data"
    }
   ],
   "source": [
    "# Take a smaller random sample of, say, 100,000 rows\n",
    "sample_df = df.sample(100000, random_state=42)\n",
    "\n",
    "plt.figure(figsize=(10, 5))\n",
    "sns.histplot(sample_df['AQI'], bins=50, kde=True)\n",
    "plt.title('Distribution of AQI (Sample of 100,000)')\n",
    "plt.xlabel('AQI')\n",
    "plt.ylabel('Frequency')\n",
    "plt.show()"
   ]
  },
  {
   "cell_type": "markdown",
   "id": "2998c255-5e80-41e0-bc32-219ca1f049d2",
   "metadata": {},
   "source": [
    "**Distribution Findings**  \n",
    "- From the histogram, we see that the vast majority of AQI values cluster at the lower end (under ~50), with a long tail extending to higher AQI values. This suggests that “Good” air quality is most common, but some locations or dates do experience significantly higher pollution levels.\n",
    "\n",
    "**Why Sampling?**  \n",
    "- Because the dataset contains over 5.6 million rows, plotting all data at once can be slow and visually overwhelming. By taking a random sample of 100,000 observations, we preserve the overall distribution pattern while improving performance and clarity of the visualization."
   ]
  },
  {
   "cell_type": "markdown",
   "id": "e1c639e8-1dcd-4616-8915-69bb8ad4ee95",
   "metadata": {},
   "source": [
    "#### **Correlation Heatmap**\n",
    "We'll calculate and visualize correlation among all numerical columns. This can help us identify which features are most related to AQI."
   ]
  },
  {
   "cell_type": "code",
   "execution_count": 100,
   "id": "aaf84719-1de2-4f77-bc46-c6834968df9f",
   "metadata": {},
   "outputs": [
    {
     "data": {
      "image/png": "[encoded data removed]",
      "text/plain": [
       "<Figure size 1000x800 with 2 Axes>"
      ]
     },
     "metadata": {},
     "output_type": "display_data"
    }
   ],
   "source": [
    "# Select only numeric columns\n",
    "numeric_cols = df.select_dtypes(include=[np.number])\n",
    "\n",
    "# Calculate the correlation matrix\n",
    "corr_matrix = numeric_cols.corr()\n",
    "\n",
    "# Create a heatmap\n",
    "plt.figure(figsize=(10, 8))\n",
    "sns.heatmap(corr_matrix, annot=True, cmap='coolwarm', fmt=\".2f\")\n",
    "plt.title('Correlation Matrix of Numeric Features')\n",
    "plt.show()"
   ]
  },
  {
   "cell_type": "markdown",
   "id": "d5774494-70d4-4381-9452-b25e308de017",
   "metadata": {},
   "source": [
    "**Key Observations from the Correlation Heatmap:**\n",
    "- **Number of Sites Reporting** shows a strong positive correlation with both **Population (0.76)** and **Density (0.56)**. This suggests more densely populated regions tend to have more monitoring stations.\n",
    "- **Population** and **Density** also have a high positive correlation **(0.70)**, which is expected since larger populations in the same geographic area naturally increase population density.\n",
    "- **AQI** shows only mild-to-moderate correlations with **Population (0.20)** and **Number of Sites Reporting (0.26)**, indicating that while more populated or closely monitored areas may have slightly different air quality, it’s not the dominant factor driving AQI across the dataset."
   ]
  },
  {
   "cell_type": "markdown",
   "id": "f52d905f-e442-4001-a5be-4fbd938de654",
   "metadata": {},
   "source": [
    "#### **Concluding the EDA and Moving Forward**\n",
    "\n",
    "From the correlation analysis, you can see which numeric features show stronger relationships with one another (e.g., population, density, and number of sites). Although AQI does not strongly correlate with most features, these observations guide us in deciding which variables might be worth exploring or transforming for the model.\n",
    "\n",
    "In the next section, I'll leverage these insights to:\n",
    "1. **Handle any necessary data transformations** (e.g., converting categorical columns to numeric, scaling large-range features).\n",
    "2. **Drop or reformat** columns that won't add value to our regression model.\n",
    "3. **Engineer potential new features** (e.g., extracting `month` from `Date`) to capture time-based patterns.\n",
    "\n",
    "By preparing a clean, model-ready dataset, we'll be better positioned for accurate AQI predictions in the modeling phase."
   ]
  },
  {
   "cell_type": "markdown",
   "id": "9effb277-9603-43d2-a1fe-184cb17d795d",
   "metadata": {},
   "source": [
    "## **3. Experiment 1: Linear Regression**"
   ]
  },
  {
   "cell_type": "markdown",
   "id": "30e08391-6f56-4235-80f3-5ff2a0779dba",
   "metadata": {},
   "source": [
    "### **3.2 Pre-Processing**\n",
    "\n",
    "To prepare the data for modeling, we completed several preprocessing steps:\n",
    "\n",
    "1. **Converted `Date` to datetime** format using `pd.to_datetime`. This allowed me to later extract temporal features such as month or season that may influence air quality trends. This allowed us to later extract temporal features such as `month` or `season` that may influence air quality trends.\n",
    "2. **Dropped unnecessary columns** that do not provide predictive value or are redundant:\n",
    "   - `Unnamed: 0`: an index column from the original CSV.\n",
    "   - `city_ascii`, `state_id`, `state_name`, `timezone`: mostly string-based geographic labels already represented by latitude and longitude or too granular for modeling."
   ]
  },
  {
   "cell_type": "code",
   "execution_count": 101,
   "id": "2e6d3734-0b5f-48a5-996c-08892698cfd1",
   "metadata": {},
   "outputs": [
    {
     "data": {
      "text/html": [
       "<div>\n",
       "<style scoped>\n",
       "    .dataframe tbody tr th:only-of-type {\n",
       "        vertical-align: middle;\n",
       "    }\n",
       "\n",
       "    .dataframe tbody tr th {\n",
       "        vertical-align: top;\n",
       "    }\n",
       "\n",
       "    .dataframe thead th {\n",
       "        text-align: right;\n",
       "    }\n",
       "</style>\n",
       "<table border=\"1\" class=\"dataframe\">\n",
       "  <thead>\n",
       "    <tr style=\"text-align: right;\">\n",
       "      <th></th>\n",
       "      <th>CBSA Code</th>\n",
       "      <th>Date</th>\n",
       "      <th>AQI</th>\n",
       "      <th>Category</th>\n",
       "      <th>Defining Parameter</th>\n",
       "      <th>Number of Sites Reporting</th>\n",
       "      <th>lat</th>\n",
       "      <th>lng</th>\n",
       "      <th>population</th>\n",
       "      <th>density</th>\n",
       "    </tr>\n",
       "  </thead>\n",
       "  <tbody>\n",
       "    <tr>\n",
       "      <th>0</th>\n",
       "      <td>10140</td>\n",
       "      <td>2022-01-01</td>\n",
       "      <td>21</td>\n",
       "      <td>Good</td>\n",
       "      <td>PM2.5</td>\n",
       "      <td>2</td>\n",
       "      <td>46.9757</td>\n",
       "      <td>-123.8094</td>\n",
       "      <td>16571.0</td>\n",
       "      <td>588.0</td>\n",
       "    </tr>\n",
       "    <tr>\n",
       "      <th>1</th>\n",
       "      <td>10140</td>\n",
       "      <td>2022-01-02</td>\n",
       "      <td>12</td>\n",
       "      <td>Good</td>\n",
       "      <td>PM2.5</td>\n",
       "      <td>2</td>\n",
       "      <td>46.9757</td>\n",
       "      <td>-123.8094</td>\n",
       "      <td>16571.0</td>\n",
       "      <td>588.0</td>\n",
       "    </tr>\n",
       "    <tr>\n",
       "      <th>2</th>\n",
       "      <td>10140</td>\n",
       "      <td>2022-01-03</td>\n",
       "      <td>18</td>\n",
       "      <td>Good</td>\n",
       "      <td>PM2.5</td>\n",
       "      <td>2</td>\n",
       "      <td>46.9757</td>\n",
       "      <td>-123.8094</td>\n",
       "      <td>16571.0</td>\n",
       "      <td>588.0</td>\n",
       "    </tr>\n",
       "    <tr>\n",
       "      <th>3</th>\n",
       "      <td>10140</td>\n",
       "      <td>2022-01-04</td>\n",
       "      <td>19</td>\n",
       "      <td>Good</td>\n",
       "      <td>PM2.5</td>\n",
       "      <td>2</td>\n",
       "      <td>46.9757</td>\n",
       "      <td>-123.8094</td>\n",
       "      <td>16571.0</td>\n",
       "      <td>588.0</td>\n",
       "    </tr>\n",
       "    <tr>\n",
       "      <th>4</th>\n",
       "      <td>10140</td>\n",
       "      <td>2022-01-05</td>\n",
       "      <td>17</td>\n",
       "      <td>Good</td>\n",
       "      <td>PM2.5</td>\n",
       "      <td>2</td>\n",
       "      <td>46.9757</td>\n",
       "      <td>-123.8094</td>\n",
       "      <td>16571.0</td>\n",
       "      <td>588.0</td>\n",
       "    </tr>\n",
       "  </tbody>\n",
       "</table>\n",
       "</div>"
      ],
      "text/plain": [
       "   CBSA Code       Date  AQI Category Defining Parameter  \\\n",
       "0      10140 2022-01-01   21     Good              PM2.5   \n",
       "1      10140 2022-01-02   12     Good              PM2.5   \n",
       "2      10140 2022-01-03   18     Good              PM2.5   \n",
       "3      10140 2022-01-04   19     Good              PM2.5   \n",
       "4      10140 2022-01-05   17     Good              PM2.5   \n",
       "\n",
       "   Number of Sites Reporting      lat       lng  population  density  \n",
       "0                          2  46.9757 -123.8094     16571.0    588.0  \n",
       "1                          2  46.9757 -123.8094     16571.0    588.0  \n",
       "2                          2  46.9757 -123.8094     16571.0    588.0  \n",
       "3                          2  46.9757 -123.8094     16571.0    588.0  \n",
       "4                          2  46.9757 -123.8094     16571.0    588.0  "
      ]
     },
     "execution_count": 101,
     "metadata": {},
     "output_type": "execute_result"
    }
   ],
   "source": [
    "# Convert 'Date' to Datetime and drop 'Unnamed' column\n",
    "df['Date'] = pd.to_datetime(df['Date'])     \n",
    "df.drop(columns=['Unnamed: 0'], inplace=True)\n",
    "\n",
    "# Columns to drop\n",
    "columns_to_drop = ['city_ascii', 'state_id', 'state_name', 'timezone']\n",
    "df.drop(columns=columns_to_drop, inplace=True)\n",
    "\n",
    "# Confirm that the columns are removed\n",
    "df.head()"
   ]
  },
  {
   "cell_type": "markdown",
   "id": "97868fa1-17ec-49c0-8413-a573046f9ce0",
   "metadata": {},
   "source": [
    "3. **Handled categorical features**: For our initial experiment, we used `Defining Parameter` (the main pollutant contributing to the AQI) and planned to one-hot encode it later during modeling.\n",
    "4. **Verified data types and completeness**: No major missing data was observed for the columns selected in the initial model (`lat`, `lng`, `Defining Parameter`, `population`, `density`, `Number of Sites Reporting`), allowing us to proceed without imputation for this version."
   ]
  },
  {
   "cell_type": "markdown",
   "id": "01d1b16d-e904-4675-9771-48959f8321c4",
   "metadata": {},
   "source": [
    "### **3.3 Modeling**\n",
    "\n",
    "For our first modeling attempt, we used a Linear Regression model to predict AQI using the following features:\n",
    "\n",
    "- `lat` and `lng` — to represent geographic location\n",
    "- `population` and `density` — to account for urbanization levels\n",
    "- `Defining Parameter` — the main pollutant contributing to AQI (categorical)\n",
    "- `Number of Sites Reporting` — indicating the scale of air quality monitoring\n",
    "- `month` — extracted from the `Date` column to capture seasonal patterns\n",
    "\n",
    "We also performed one-hot encoding on the `Defining Parameter` feature during preprocessing within a modeling pipeline."
   ]
  },
  {
   "cell_type": "markdown",
   "id": "4e82e3bb-c78c-433d-beb9-2545539fc090",
   "metadata": {},
   "source": [
    "#### **Feature Engineering**\n",
    "\n",
    "First, we extracted the `month` feature from the `Date` column:"
   ]
  },
  {
   "cell_type": "code",
   "execution_count": 102,
   "id": "7ccda736-9bbc-442b-b5c1-1da3b95612cf",
   "metadata": {},
   "outputs": [],
   "source": [
    "df['month'] = df['Date'].dt.month"
   ]
  },
  {
   "cell_type": "markdown",
   "id": "a050b3bf-d3bc-4593-9a1b-a62380cdafc9",
   "metadata": {},
   "source": [
    "Next, we prepared our data for modeling:"
   ]
  },
  {
   "cell_type": "code",
   "execution_count": 103,
   "id": "8f049b0b-b4d5-4395-ae08-f10e28a2ad28",
   "metadata": {},
   "outputs": [
    {
     "name": "stdout",
     "output_type": "stream",
     "text": [
      "Experiment 1 RMSE: 34.53\n"
     ]
    }
   ],
   "source": [
    "# Select features and target\n",
    "X = df[['lat', 'lng', 'population', 'density', 'Number of Sites Reporting', 'Defining Parameter', 'month']]\n",
    "y = df['AQI']\n",
    "\n",
    "# Categorical features to encode\n",
    "cat = ['Defining Parameter']\n",
    "\n",
    "# Preprocessing pipeline\n",
    "preprocessor = ColumnTransformer(\n",
    "    transformers=[\n",
    "        ('cat', OneHotEncoder(handle_unknown='ignore'), cat)\n",
    "    ],\n",
    "    remainder='passthrough'  # Keep numeric features as is\n",
    ")\n",
    "\n",
    "# Create full pipeline with Linear Regression\n",
    "pipeline = Pipeline(steps=[\n",
    "    ('preprocessor', preprocessor),\n",
    "    ('regressor', LinearRegression())\n",
    "])\n",
    "\n",
    "# Train-test split\n",
    "X_train, X_test, y_train, y_test = train_test_split(X, y, test_size=0.2, random_state=42)\n",
    "\n",
    "# Fit model\n",
    "pipeline.fit(X_train, y_train)\n",
    "\n",
    "# Predict\n",
    "y_pred = pipeline.predict(X_test)\n",
    "\n",
    "# Evaluate\n",
    "LR_rmse = np.sqrt(mean_squared_error(y_test, y_pred))\n",
    "print(f\"Experiment 1 RMSE: {LR_rmse:.2f}\")"
   ]
  },
  {
   "cell_type": "markdown",
   "id": "64ce0336-17ba-4e78-b852-6e6c37102b8c",
   "metadata": {},
   "source": [
    "### **3.4 Evaluation**\n",
    "\n",
    "This Linear Regression model gave us a baseline **Root Mean Squared Error (RMSE)** of approximately **34.53**. While this is a good starting point, it suggests that a simple linear model may not fully capture the complexity of air quality variation across regions and time. In the next experiments, we’ll explore more advanced models and additional feature engineering to improve performance."
   ]
  },
  {
   "cell_type": "markdown",
   "id": "7ee02d5f-5536-4109-8334-405d00c9acf2",
   "metadata": {},
   "source": [
    "## **4. Experiment 2: Ridge Regression**\n",
    "\n",
    "In Experiment 2, we aimed to improve our model by addressing two potential issues with the first approach:\n",
    "1. **Multicollinearity**: Features like `population`, `density`, and `Number of Sites Reporting` may be correlated. This can lead to unstable coefficients in Linear Regression.\n",
    "2. **Lack of regularization**: Linear Regression has no built-in mechanism to constrain or shrink coefficients, which may lead to overfitting or high variance in prediction.\n",
    "\n",
    "To mitigate these issues, we introduced two changes:\n",
    "- Switched from **Linear Regression** to **Ridge Regression**, which applies L2 regularization.\n",
    "- Added a new interaction feature: `population × density`, under the assumption that the effect of a dense population might not be linear."
   ]
  },
  {
   "cell_type": "markdown",
   "id": "4a27b5df-406c-45d4-9747-a107d183a6cc",
   "metadata": {},
   "source": [
    "### **4.1 Feature Engineering**\n",
    "We created a new feature that multiplies population and density:"
   ]
  },
  {
   "cell_type": "code",
   "execution_count": 104,
   "id": "2653c777-78e8-401c-8bb8-195fa85f9f7a",
   "metadata": {},
   "outputs": [],
   "source": [
    "df['pop_density_interaction'] = df['population'] * df['density']"
   ]
  },
  {
   "cell_type": "markdown",
   "id": "b4d5bdb2-87a7-4450-b28b-2d7754ab4a37",
   "metadata": {},
   "source": [
    "Our new feature set includes:\n",
    "- All features from Experiment 1\n",
    "- The new `pop_density_interaction` term"
   ]
  },
  {
   "cell_type": "markdown",
   "id": "708be42c-7447-4f74-99b9-e355311317cc",
   "metadata": {},
   "source": [
    "### **4.2 Modeling**"
   ]
  },
  {
   "cell_type": "code",
   "execution_count": 105,
   "id": "a7519b26-d84c-4cb9-a619-2e84c83a531f",
   "metadata": {},
   "outputs": [
    {
     "name": "stdout",
     "output_type": "stream",
     "text": [
      "Experiment 2 RMSE (Ridge): 34.42\n"
     ]
    }
   ],
   "source": [
    "# Use the same features as in Linear Regression for Ridge Regression\n",
    "X2 = df[['lat', 'lng', 'population', 'density', 'Number of Sites Reporting', \n",
    "         'Defining Parameter', 'month', 'pop_density_interaction']]\n",
    "y2 = df['AQI']  # Directly referencing target for clarity\n",
    "\n",
    "# Define feature groups\n",
    "numeric_features = ['lat', 'lng', 'population', 'density', \n",
    "                    'Number of Sites Reporting', 'month', 'pop_density_interaction']\n",
    "categorical_features = ['Defining Parameter']\n",
    "\n",
    "# Create preprocessing pipeline\n",
    "preprocessor = make_column_transformer(\n",
    "    (OneHotEncoder(handle_unknown='ignore'), categorical_features),\n",
    "    (StandardScaler(), numeric_features)\n",
    ")\n",
    "\n",
    "# Same train/test split\n",
    "X2_train, X2_test, y2_train, y2_test = train_test_split(X2, y2, test_size=0.2, random_state=42)\n",
    "\n",
    "ridge_pipeline = Pipeline(steps=[\n",
    "    ('preprocessor', preprocessor),\n",
    "    ('regressor', Ridge(alpha=1.0))\n",
    "])\n",
    "\n",
    "# Train and evaluate\n",
    "ridge_pipeline.fit(X2_train, y2_train)\n",
    "y2_pred = ridge_pipeline.predict(X2_test)\n",
    "ridge_rmse = np.sqrt(mean_squared_error(y2_test, y2_pred))\n",
    "print(f\"Experiment 2 RMSE (Ridge): {ridge_rmse:.2f}\")"
   ]
  },
  {
   "cell_type": "markdown",
   "id": "0f00a636-6581-4ef9-b4ae-31d11a8f6173",
   "metadata": {},
   "source": [
    "### **4.3 Evaluation**\n",
    "\n",
    "With Ridge Regression and the additional `population × density` interaction feature, the model achieved an RMSE of **34.42**, slightly **worse** than the baseline Linear Regression model's RMSE of 34.53.\n",
    "\n",
    "This result suggests a few possibilities:\n",
    "- Regularization wasn’t helpful in this case — the base linear model may not have been overfitting significantly to begin with.\n",
    "- The added interaction feature may not provide meaningful predictive value or may be introducing additional noise.\n",
    "- Ridge can sometimes underperform when the signal is already strong and most features are relevant.\n",
    "\n",
    "In short, this experiment shows that **not all complexity leads to better performance**, and that **Ridge Regression isn’t always better** than plain linear regression — especially when data is well-behaved or doesn’t have severe multicollinearity.\n",
    "\n",
    "This motivates our next step: trying a **nonlinear model** that can potentially capture more complex patterns in AQI behavior that linear methods can’t."
   ]
  },
  {
   "cell_type": "markdown",
   "id": "24321514-8cf8-44ad-944a-bf577584891b",
   "metadata": {},
   "source": [
    "## **5. Experiment 3: Random Forest Regression**\n",
    "\n",
    "In our final experiment, we shifted to a **nonlinear regression model** — the **Random Forest Regressor** — to better capture complex patterns in the data.\n",
    "\n",
    "Unlike linear models, Random Forests:\n",
    "- **Do not assume a linear relationship** between inputs and the target\n",
    "- Can handle **interactions between features** automatically\n",
    "- Are **robust to outliers** and capable of modeling sharp thresholds (e.g., sudden AQI jumps due to pollution spikes)\n",
    "\n",
    "We kept all features from Experiment 2, including the `pop_density_interaction` term, and used the same preprocessing pipeline."
   ]
  },
  {
   "cell_type": "markdown",
   "id": "3810742d-ce5f-42b6-b202-963a657dc1e7",
   "metadata": {},
   "source": [
    "### **5.1 Modeling**"
   ]
  },
  {
   "cell_type": "code",
   "execution_count": 106,
   "id": "0b5ebc77-92f0-498c-a4d4-25b4592678f9",
   "metadata": {},
   "outputs": [
    {
     "name": "stdout",
     "output_type": "stream",
     "text": [
      "Experiment 3 RMSE (Random Forest): 30.82\n"
     ]
    }
   ],
   "source": [
    "# Downsample\n",
    "df_sampled = df.sample(n=500_000, random_state=42)\n",
    "\n",
    "# Features and target\n",
    "X3 = df_sampled[['lat', 'lng', 'population', 'density', 'Number of Sites Reporting', \n",
    "                 'Defining Parameter', 'month', 'pop_density_interaction']]\n",
    "y3 = df_sampled['AQI']\n",
    "\n",
    "# Train/test split\n",
    "X3_train, X3_test, y3_train, y3_test = train_test_split(X3, y3, test_size=0.2, random_state=42)\n",
    "\n",
    "# Pipeline\n",
    "rf_pipeline = Pipeline(steps=[\n",
    "    ('preprocessor', preprocessor),\n",
    "    ('regressor', RandomForestRegressor(n_estimators=20, max_depth=10, random_state=42, n_jobs=-1))\n",
    "])\n",
    "\n",
    "# Fit and evaluate\n",
    "rf_pipeline.fit(X3_train, y3_train)\n",
    "y3_pred = rf_pipeline.predict(X3_test)\n",
    "RF_rmse = np.sqrt(mean_squared_error(y3_test, y3_pred))\n",
    "print(f\"Experiment 3 RMSE (Random Forest): {RF_rmse:.2f}\")"
   ]
  },
  {
   "cell_type": "markdown",
   "id": "5c285ba3-db8d-4512-81d7-dc6ba5eac756",
   "metadata": {},
   "source": [
    "### **5.2 Evaluation**"
   ]
  },
  {
   "cell_type": "markdown",
   "id": "d34f1877-fb1e-45ed-82d2-ed6b4e8cfbe7",
   "metadata": {},
   "source": [
    "After fitting on a sampled subset of data, we achieved an RMSE of **30.82**, a notable improvement over:\n",
    "- **Experiment 1 (Linear Regression):** 34.53\n",
    "- **Experiment 2 (Ridge Regression):** 34.42\n",
    "\n",
    "This improvement indicates that random forests capture AQI’s complex patterns and interactions more effectively than linear methods."
   ]
  },
  {
   "cell_type": "markdown",
   "id": "566f9ea6-fafa-42d7-94c7-d6cba544f162",
   "metadata": {},
   "source": [
    "### **Feature Importance**"
   ]
  },
  {
   "cell_type": "code",
   "execution_count": 107,
   "id": "115cf2dd-e3ec-4976-a073-5e2ad62fb6dc",
   "metadata": {},
   "outputs": [],
   "source": [
    "# Get trained model\n",
    "rf_model = rf_pipeline.named_steps['regressor']\n",
    "\n",
    "# Get OHE feature names\n",
    "ohe = rf_pipeline.named_steps['preprocessor'].transformers_[0][1]\n",
    "ohe_features = list(ohe.get_feature_names_out(['Defining Parameter']))\n",
    "\n",
    "# Numeric feature list (used in preprocessor)\n",
    "numeric_features = ['lat', 'lng', 'population', 'density', 'Number of Sites Reporting', 'month', 'pop_density_interaction']\n",
    "all_features = ohe_features + numeric_features\n",
    "\n",
    "# Importances\n",
    "importances = rf_model.feature_importances_\n",
    "\n",
    "# Sanity check\n",
    "assert len(importances) == len(all_features), \"Feature count mismatch\""
   ]
  },
  {
   "cell_type": "code",
   "execution_count": 108,
   "id": "c40a3239-064c-42c3-b184-3ca6393aea85",
   "metadata": {},
   "outputs": [
    {
     "data": {
      "image/png": "[encoded data removed]",
      "text/plain": [
       "<Figure size 1000x600 with 1 Axes>"
      ]
     },
     "metadata": {},
     "output_type": "display_data"
    }
   ],
   "source": [
    "# Plot\n",
    "plt.figure(figsize=(10, 6))\n",
    "indices = np.argsort(importances)[::-1]\n",
    "plt.barh(range(len(importances)), importances[indices])\n",
    "plt.yticks(range(len(importances)), [all_features[i] for i in indices])\n",
    "plt.xlabel(\"Feature Importance\")\n",
    "plt.title(\"Random Forest Feature Importances\")\n",
    "plt.gca().invert_yaxis()\n",
    "plt.tight_layout()\n",
    "plt.show()"
   ]
  },
  {
   "cell_type": "markdown",
   "id": "f251cac5-dcfe-4348-852e-aeb294bac3f2",
   "metadata": {},
   "source": [
    "### **Key Insights**\n",
    "\n",
    "The Random Forest model revealed that `month`, `number of sites reporting`, and `population` were the most influential features in predicting AQI. This suggests that **seasonal patterns** (e.g., weather changes, heat, or pollutant accumulation in certain months) play a major role in air quality. The number of monitoring sites likely reflects regions with **greater concern for pollution**—often urban or industrial areas—which correlates with higher AQI levels. Population size may indirectly capture **emissions from traffic, energy use, and other human activities**, further impacting air quality. These insights reinforce the importance of temporal and demographic factors in understanding pollution trends."
   ]
  },
  {
   "cell_type": "markdown",
   "id": "a14c92dd-4782-434e-a980-30babbdfd003",
   "metadata": {},
   "source": [
    "## **6. Impact**\n",
    "\n",
    "Accurately predicting AQI can have far-reaching social and ethical impacts:\n",
    "\n",
    "**Public Health:** Reliable AQI forecasts are crucial for at-risk populations—such as individuals with respiratory conditions—who rely on timely alerts to adjust their activities or medication. However, these forecasts might fail in under-reported areas due to inconsistent data collection, potentially leaving some communities more vulnerable.\n",
    "\n",
    "**Data Bias & Representation:** If certain regions (e.g., rural or economically disadvantaged) have fewer monitoring sites or incomplete records, the model may underperform there, reinforcing health disparities. Over time, relying solely on predictive models without improving data quality in underrepresented areas could exacerbate inequality.\n",
    "\n",
    "**Environmental Policy:** Policymakers might use AQI models to allocate funding or enforce regulations (e.g., industrial emissions standards). Overreliance on a single model or dataset could lead to misguided policies if the underlying data is skewed toward well-monitored regions. This underscores the need for transparency and domain expertise when interpreting AI-driven insights.\n",
    "\n",
    "**Privacy Concerns:** While our dataset primarily deals with aggregated public information, future expansions (e.g., private health or location data) could raise questions about privacy. The greater the granularity of data, the more potential there is for identifying individuals or sensitive communities inadvertently.\n",
    "\n",
    "In summary, while AQI prediction can greatly benefit public health and environmental decision-making, careful consideration of data representation, algorithmic bias, and privacy safeguards is necessary to ensure that these benefits are shared **equitably** and **responsibly**."
   ]
  },
  {
   "cell_type": "code",
   "execution_count": 110,
   "id": "faeaf830-1fbd-4bb4-a59f-a5781aad3e36",
   "metadata": {},
   "outputs": [
    {
     "data": {
      "image/png": "[encoded data removed]",
      "text/plain": [
       "<Figure size 640x480 with 1 Axes>"
      ]
     },
     "metadata": {},
     "output_type": "display_data"
    }
   ],
   "source": [
    "models = ['Linear Regression', 'Ridge Regression', 'Random Forest']\n",
    "rmse_scores = [LR_rmse, ridge_rmse, RF_rmse]\n",
    "\n",
    "plt.bar(models, rmse_scores, color='skyblue')\n",
    "plt.ylabel('RMSE')\n",
    "plt.title('Model Performance Comparison')\n",
    "plt.show()"
   ]
  },
  {
   "cell_type": "markdown",
   "id": "93aab361-880d-4751-93c1-2569f123c0c5",
   "metadata": {},
   "source": [
    "## **7. Conclusion**\n",
    "\n",
    "**RMSE (Root Mean Squared Error)** tells us how far off our model’s predicted air quality levels are from the actual values, on average. In this project, comparing RMSE across models helps us evaluate which one best predicts air quality based on factors like population density, traffic, or industrial activity. A lower RMSE means the model is better at capturing these relationships and making accurate predictions.\n",
    "\n",
    "This project set out to predict **daily AQI** using geographic, pollutant, and population-based features. Our work demonstrates the value of systematically testing **multiple regression approaches**:\n",
    "\n",
    "- **Linear Regression** offered a straightforward baseline (RMSE: 34.53), confirming that some predictive signal exists in our chosen features.\n",
    "- **Ridge Regression** (RMSE: 34.42) showed minimal improvement, suggesting that simple regularization and an interaction term did not address the complexities in AQI prediction.\n",
    "- **Random Forest Regression** (RMSE: 30.82) provided the best results, capturing nonlinear relationships and feature interactions that linear models overlooked.\n",
    "\n",
    "These experiments highlight the **iterative nature** of data science: initial baseline models expose possible improvements, while more advanced techniques like ensembles often outperform simpler linear approaches. Overall, we found that **nonlinear methods** better represent the real-world complexity of air quality data. Future efforts might explore other tree-based models or integrate additional external factors (e.g., meteorological or land-use data) to further refine AQI forecasts."
   ]
  },
  {
   "cell_type": "markdown",
   "id": "2ea297c3-ad31-4243-b5b5-05fea4bb8623",
   "metadata": {},
   "source": [
    "## **References**\n",
    "\n",
    "**Dataset:** [US Air Quality](https://www.kaggle.com/datasets/calebreigada/us-air-quality-1980present)"
   ]
  }
 ],
 "metadata": {
  "kernelspec": {
   "display_name": "Python 3 (ipykernel)",
   "language": "python",
   "name": "python3"
  },
  "language_info": {
   "codemirror_mode": {
    "name": "ipython",
    "version": 3
   },
   "file_extension": ".py",
   "mimetype": "text/x-python",
   "name": "python",
   "nbconvert_exporter": "python",
   "pygments_lexer": "ipython3",
   "version": "3.12.8"
  }
 },
 "nbformat": 4,
 "nbformat_minor": 5
}
